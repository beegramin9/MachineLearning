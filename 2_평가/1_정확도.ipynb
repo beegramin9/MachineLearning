{
 "metadata": {
  "language_info": {
   "codemirror_mode": {
    "name": "ipython",
    "version": 3
   },
   "file_extension": ".py",
   "mimetype": "text/x-python",
   "name": "python",
   "nbconvert_exporter": "python",
   "pygments_lexer": "ipython3",
   "version": "3.8.5-final"
  },
  "orig_nbformat": 2,
  "kernelspec": {
   "name": "python3",
   "display_name": "Python 3",
   "language": "python"
  }
 },
 "nbformat": 4,
 "nbformat_minor": 2,
 "cells": [
  {
   "source": [
    "# 정확도\n",
    "### Titanic 엉터리 분류"
   ],
   "cell_type": "markdown",
   "metadata": {}
  },
  {
   "cell_type": "code",
   "execution_count": 11,
   "metadata": {},
   "outputs": [],
   "source": [
    "import numpy as np\n",
    "from sklearn.base import BaseEstimator"
   ]
  },
  {
   "cell_type": "code",
   "execution_count": 14,
   "metadata": {},
   "outputs": [],
   "source": [
    "# BaseEstimator 클래스의 자식 클래스\n",
    "\n",
    "class MyDummyClassifier(BaseEstimator):\n",
    "    # 따로 속성을 부여하지 않고 \n",
    "    # fit(), method() 메소드만 Overrider할 것이기 때문에 생성자는 필요없음\n",
    "    def fit(self, X, y):\n",
    "        # 메소드 첫 인자 self여야 되는 걸 까먹다니...\n",
    "\n",
    "        # \"여성이면 무조건 생존이다\"이기 때문에\n",
    "        # 따로 모델 만들어 줄 필요 없이 메소드만 Override만 하면 됨\n",
    "        pass\n",
    "    def predict(self, X):\n",
    "        # y^ 을 구하기 귀해 X(=X_test)가 인자로\n",
    "        # pred= dt_clf(X)에서 test셋을 행x열 291x10 로 정했을 때\n",
    "        # X.shape 하면 행 수만큼 나옴\n",
    "        pred = np.zeros((X.shape[0],1))\n",
    "        for i in range(X.shape[0]):\n",
    "            # 행마다 돌아가면서 성별 확인. 0은 여성\n",
    "            if X['Sex'].iloc[i] == 0:\n",
    "                pred[i,0] = 1\n",
    "            # 남자일 땐 이미 0(사망)으로 만들었기에 더이상 할 게 없음\n",
    "        return pred     "
   ]
  },
  {
   "cell_type": "code",
   "execution_count": 15,
   "metadata": {},
   "outputs": [
    {
     "output_type": "stream",
     "name": "stdout",
     "text": [
      "(10, 1)\n"
     ]
    },
    {
     "output_type": "execute_result",
     "data": {
      "text/plain": [
       "array([[0.],\n",
       "       [0.],\n",
       "       [0.],\n",
       "       [0.],\n",
       "       [0.],\n",
       "       [0.],\n",
       "       [0.],\n",
       "       [0.],\n",
       "       [0.],\n",
       "       [0.]])"
      ]
     },
     "metadata": {},
     "execution_count": 15
    }
   ],
   "source": [
    "X = np.zeros((10,1))\n",
    "print(X.shape)\n",
    "X"
   ]
  },
  {
   "cell_type": "code",
   "execution_count": 16,
   "metadata": {},
   "outputs": [],
   "source": [
    "# 타이타닉 데이터\n",
    "import pandas as pd\n",
    "titanic_df = pd.read_csv('./data/train.csv')\n",
    "y_titanic_df = titanic_df['Survived']\n",
    "X_titanic_df = titanic_df.drop('Survived', axis= 1 )"
   ]
  },
  {
   "cell_type": "code",
   "execution_count": 17,
   "metadata": {},
   "outputs": [],
   "source": [
    "from sklearn.model_selection import train_test_split\n",
    "X_train, X_test, y_train, y_test = train_test_split(\n",
    "    X_titanic_df, y_titanic_df, test_size = 0.2, random_state=11\n",
    ")"
   ]
  },
  {
   "cell_type": "code",
   "execution_count": 18,
   "metadata": {},
   "outputs": [],
   "source": [
    "my_clf = MyDummyClassifier()\n",
    "my_clf.fit(X_train,y_train)\n",
    "my_pred = my_clf.predict(X_test)"
   ]
  },
  {
   "cell_type": "code",
   "execution_count": 19,
   "metadata": {},
   "outputs": [
    {
     "output_type": "execute_result",
     "data": {
      "text/plain": [
       "0.659217877094972"
      ]
     },
     "metadata": {},
     "execution_count": 19
    }
   ],
   "source": [
    "from sklearn.metrics import accuracy_score\n",
    "accuracy_score(y_test, my_pred)"
   ]
  },
  {
   "source": [
    "### Null값이 섞여있으면 건너뛰고 하기 떄문에 정확도가 낮음"
   ],
   "cell_type": "markdown",
   "metadata": {}
  },
  {
   "cell_type": "code",
   "execution_count": 25,
   "metadata": {},
   "outputs": [],
   "source": [
    "# 데이터 전처리에 필요한 함수\n",
    "from sklearn.preprocessing import LabelEncoder\n",
    "\n",
    "def fillna(df):\n",
    "    df.Age.fillna(df.Age.mean(), inplace=True)\n",
    "    df.Cabin.fillna(df.Cabin.describe()['top'], inplace=True)\n",
    "    df.Embarked.fillna(df.Embarked.describe()['top'], inplace=True)\n",
    "    df.Fare.fillna(df.Fare.mean(), inplace=True)\n",
    "    return df\n",
    "\n",
    "# 머신러닝 알고리즘에 불필요한 변수(Feature) 제거\n",
    "def redundant_features(df):\n",
    "    df.drop(['PassengerId','Name','Ticket'], axis=1, inplace=True)\n",
    "    return df\n",
    "\n",
    "# 레이블 인코딩\n",
    "def label_features(df):\n",
    "    features = [\"Cabin\",\"Sex\",\"Embarked\"]\n",
    "    for feature in features:\n",
    "        le = LabelEncoder()\n",
    "        df[feature] = le.fit_transform(df[feature])\n",
    "    return df\n",
    "\n",
    "# 위의 함수를 총망라\n",
    "def transform_features(df):\n",
    "    df = fillna(df)\n",
    "    df = redundant_features(df)\n",
    "    df = label_features(df)\n",
    "    return df\n"
   ]
  },
  {
   "cell_type": "code",
   "execution_count": 26,
   "metadata": {},
   "outputs": [],
   "source": [
    "titanic_df = pd.read_csv('./data/train.csv')\n",
    "y_titanic_df = titanic_df['Survived']\n",
    "# 정답열인 Survived 열 제거\n",
    "X_titanic_df = titanic_df.drop('Survived', axis= 1 )\n",
    "# 전처리 함수\n",
    "X_titanic_df = transform_features(X_titanic_df)"
   ]
  },
  {
   "cell_type": "code",
   "execution_count": 27,
   "metadata": {},
   "outputs": [],
   "source": [
    "X_train, X_test, y_train, y_test = train_test_split(\n",
    "    X_titanic_df, y_titanic_df, test_size = 0.2, random_state=11\n",
    ")"
   ]
  },
  {
   "cell_type": "code",
   "execution_count": 28,
   "metadata": {},
   "outputs": [],
   "source": [
    "my_clf = MyDummyClassifier()\n",
    "my_clf.fit(X_train,y_train)\n",
    "my_pred = my_clf.predict(X_test)"
   ]
  },
  {
   "cell_type": "code",
   "execution_count": 29,
   "metadata": {},
   "outputs": [
    {
     "output_type": "execute_result",
     "data": {
      "text/plain": [
       "0.8324022346368715"
      ]
     },
     "metadata": {},
     "execution_count": 29
    }
   ],
   "source": [
    "accuracy_score(y_test, my_pred)"
   ]
  },
  {
   "source": [
    "### MyFakeClassifier\n",
    "- MNist 손글씨"
   ],
   "cell_type": "markdown",
   "metadata": {}
  },
  {
   "cell_type": "code",
   "execution_count": 31,
   "metadata": {},
   "outputs": [],
   "source": [
    "class MyFakeClassifier(BaseEstimator):\n",
    "    def fit(self, X, y):\n",
    "        pass\n",
    "    # 입력값으로 들어오는 X 데이터 셋의 크기만큼 모두 0값으로 반환\n",
    "    def predict(self, X):\n",
    "        return np.zeros( (len(X),1), dtype = bool)\n",
    "    "
   ]
  },
  {
   "cell_type": "code",
   "execution_count": 38,
   "metadata": {},
   "outputs": [],
   "source": [
    "from sklearn.datasets import load_digits\n",
    "\n",
    "# 사이킷런의 내장 데이터셋 load_digits()을 이용하여 MNIST 데이터 로딩\n",
    "digits = load_digits()\n",
    "\n",
    "# digits 번호가 7번이면 True이고 이를 astype(int)로 1로 변환\n",
    "# 7번이 아니면 False이고 0으로 변환\n",
    "y = (digits.target == 7).astype(int)\n",
    "X_train, X_test, y_train, y_test = train_test_split(\n",
    "    digits.data, y, random_state=11\n",
    ")"
   ]
  },
  {
   "cell_type": "code",
   "execution_count": 39,
   "metadata": {},
   "outputs": [
    {
     "output_type": "stream",
     "name": "stdout",
     "text": [
      "레이블 테스트 세트 크기: (450,)\n테스트 세트 레이블 0과 1의 분포도: 0    405\n1     45\ndtype: int64\n"
     ]
    }
   ],
   "source": [
    "print(f'레이블 테스트 세트 크기: {y_test.shape}')\n",
    "print(f'테스트 세트 레이블 0과 1의 분포도: {pd.Series(y_test).value_counts()}')"
   ]
  },
  {
   "cell_type": "code",
   "execution_count": 40,
   "metadata": {},
   "outputs": [
    {
     "output_type": "stream",
     "name": "stdout",
     "text": [
      "모든 예측을 0으로 해도 정확도는: 0.900000\n"
     ]
    }
   ],
   "source": [
    "# Dummy Classfier로 학습/예측/정확도 평가\n",
    "fakeclf = MyFakeClassifier()\n",
    "fakeclf.fit(X_train, y_train)\n",
    "fakepred = fakeclf.predict(X_test)\n",
    "score = accuracy_score(y_test, fakepred)\n",
    "print(f'모든 예측을 0으로 해도 정확도는: {score:3f}')"
   ]
  },
  {
   "source": [
    "### 오차 행렬(Confusion Matrix)<br>\n",
    "1종오류: 틀린 걸 맞다고 하는 오류 (= 무고한 사람을 범죄자라 낙인하는 오류)<br>\n",
    "2종오류: 맞는 걸 틀렸다고 하는 오류 (= 암 환자를 건강하다고 하는 오류) <br>\n",
    "- MyFakeClassifier 사례"
   ],
   "cell_type": "markdown",
   "metadata": {}
  },
  {
   "cell_type": "code",
   "execution_count": 41,
   "metadata": {},
   "outputs": [
    {
     "output_type": "execute_result",
     "data": {
      "text/plain": [
       "array([[405,   0],\n",
       "       [ 45,   0]], dtype=int64)"
      ]
     },
     "metadata": {},
     "execution_count": 41
    }
   ],
   "source": [
    "from sklearn.metrics import confusion_matrix\n",
    "confusion_matrix(y_test, fakepred)\n",
    "# TN,          FP(1종오류)\n",
    "# FN(2종오류), TP"
   ]
  },
  {
   "source": [
    "- 정밀도(Precision) <br>\n",
    "TP / (FP + TP) <br>\n",
    "1종오류에 민감하게 반응. 즉 1종오류를 줄이기 위한 척도 <br>\n",
    "판사가 잘한다 못한다는 정밀도에 따라\n",
    "\n",
    "- 재현율(Precision) <br>\n",
    "TP / (FN + TP) <br>\n",
    "2종오류에 민감하게 반응. 즉 2종오류를 줄이기 위한 척도 <br>\n",
    "의사가 잘한다 못한다는 정밀도에 따라 \n",
    "\n",
    "- F1 Score <br>\n",
    "정밀도와 재현율이 조화를 이루는 지점 (조화평균도 여기서 나옴)"
   ],
   "cell_type": "markdown",
   "metadata": {}
  },
  {
   "cell_type": "code",
   "execution_count": 49,
   "metadata": {},
   "outputs": [],
   "source": [
    "from sklearn.metrics import precision_score, recall_score, confusion_matrix\n",
    "\n",
    "def get_clf_eval(y_test, pred):\n",
    "    confusion = confusion_matrix(y_test, pred)\n",
    "    accuracy = accuracy_score(y_test, pred)\n",
    "    precision = precision_score(y_test, pred)\n",
    "    recall = recall_score(y_test, pred)\n",
    "    \n",
    "    print(f'오차 행렬: {confusion}')\n",
    "    print(f'정확도: {accuracy:.4f}, 정밀도: {precision:.4f}, 재현율: {recall:.4f}')"
   ]
  },
  {
   "cell_type": "code",
   "execution_count": 50,
   "metadata": {},
   "outputs": [],
   "source": [
    "titanic_df = pd.read_csv('./data/train.csv')\n",
    "y_titanic_df = titanic_df['Survived']\n",
    "# 정답열인 Survived 열 제거\n",
    "X_titanic_df = titanic_df.drop('Survived', axis= 1 )\n",
    "# 전처리 함수\n",
    "X_titanic_df = transform_features(X_titanic_df)\n",
    "X_train, X_test, y_train, y_test = train_test_split(\n",
    "    X_titanic_df, y_titanic_df, test_size = 0.2, random_state=11\n",
    ")"
   ]
  },
  {
   "cell_type": "code",
   "execution_count": 51,
   "metadata": {},
   "outputs": [
    {
     "output_type": "stream",
     "name": "stdout",
     "text": [
      "오차 행렬: [[109   9]\n [ 14  47]]\n정확도: 0.8715, 정밀도: 0.8393, 재현율: 0.7705\n"
     ]
    }
   ],
   "source": [
    "# DummyClassifier말고 Logistic Regression을 이용해 제대로 분류함\n",
    "from sklearn.linear_model import LogisticRegression\n",
    "\n",
    "lr_clf = LogisticRegression()\n",
    "lr_clf.fit(X_train, y_train)\n",
    "pred = lr_clf.predict(X_test)\n",
    "get_clf_eval(y_test, pred)"
   ]
  },
  {
   "source": [
    "### Precision/Recall Trade-off"
   ],
   "cell_type": "markdown",
   "metadata": {}
  },
  {
   "cell_type": "code",
   "execution_count": 54,
   "metadata": {},
   "outputs": [
    {
     "output_type": "execute_result",
     "data": {
      "text/plain": [
       "array([[0.38437275, 0.61562725],\n",
       "       [0.87923083, 0.12076917],\n",
       "       [0.87566575, 0.12433425],\n",
       "       [0.85366996, 0.14633004],\n",
       "       [0.77514259, 0.22485741],\n",
       "       [0.85188011, 0.14811989],\n",
       "       [0.88716943, 0.11283057],\n",
       "       [0.22730428, 0.77269572],\n",
       "       [0.74699296, 0.25300704],\n",
       "       [0.35305167, 0.64694833]])"
      ]
     },
     "metadata": {},
     "execution_count": 54
    }
   ],
   "source": [
    "# 0, 1로 나눠진다고해서 그 값이 실제로 0, 1일까? \n",
    "# 아님. 언제까지나 0, 1,이 나올 확률이 크다는 얘기임\n",
    "pred_proba = lr_clf.predict_proba(X_test)\n",
    "\"\"\" 더 큰 값에따라서 0 아니면 1로 나온다\n",
    "아래 pred[:10] 와 비교 \"\"\"\n",
    "pred_proba[:10]"
   ]
  },
  {
   "cell_type": "code",
   "execution_count": 55,
   "metadata": {},
   "outputs": [
    {
     "output_type": "execute_result",
     "data": {
      "text/plain": [
       "array([1, 0, 0, 0, 0, 0, 0, 1, 0, 1], dtype=int64)"
      ]
     },
     "metadata": {},
     "execution_count": 55
    }
   ],
   "source": [
    "pred[:10]"
   ]
  },
  {
   "cell_type": "code",
   "execution_count": 57,
   "metadata": {},
   "outputs": [
    {
     "output_type": "execute_result",
     "data": {
      "text/plain": [
       "array([[0., 0., 1.],\n",
       "       [1., 0., 0.],\n",
       "       [0., 0., 1.]])"
      ]
     },
     "metadata": {},
     "execution_count": 57
    }
   ],
   "source": [
    "from sklearn.preprocessing import Binarizer\n",
    "x = [[1, -1, 2],\n",
    "     [2, 0, 0],\n",
    "     [0, 1.1, 1.2]]\n",
    "# threshold 기준값보다 같거나 작으면 0을, 크면 1을 반환\n",
    "binarizer = Binarizer(threshold = 1.1)\n",
    "binarizer.fit_transform(x)"
   ]
  },
  {
   "source": [
    "- F1 스코어 = 조화평균 <br>\n",
    "재현율과 정밀도가 조화를 이룰 때 높은 수치를 가진다"
   ],
   "cell_type": "markdown",
   "metadata": {}
  },
  {
   "source": [
    "from sklearn.metrics import f1_score\n",
    "\n",
    "f1 = f1_score(y_test, pred)\n",
    "print(f'F1 스코어: {f1}')"
   ],
   "cell_type": "code",
   "metadata": {},
   "execution_count": 59,
   "outputs": [
    {
     "output_type": "stream",
     "name": "stdout",
     "text": [
      "F1 스코어: 0.8034188034188035\n"
     ]
    }
   ]
  }
 ]
}