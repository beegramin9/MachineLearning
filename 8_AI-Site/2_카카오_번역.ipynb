{
 "metadata": {
  "language_info": {
   "codemirror_mode": {
    "name": "ipython",
    "version": 3
   },
   "file_extension": ".py",
   "mimetype": "text/x-python",
   "name": "python",
   "nbconvert_exporter": "python",
   "pygments_lexer": "ipython3",
   "version": "3.8.5-final"
  },
  "orig_nbformat": 2,
  "kernelspec": {
   "name": "python3",
   "display_name": "Python 3",
   "language": "python"
  }
 },
 "nbformat": 4,
 "nbformat_minor": 2,
 "cells": [
  {
   "source": [
    "# 카카오 번역"
   ],
   "cell_type": "markdown",
   "metadata": {}
  },
  {
   "cell_type": "code",
   "execution_count": 24,
   "metadata": {},
   "outputs": [],
   "source": [
    "import requests\n",
    "from urllib.parse import quote"
   ]
  },
  {
   "cell_type": "code",
   "execution_count": 25,
   "metadata": {},
   "outputs": [],
   "source": [
    "with open('keys/kakao_api_key.txt') as kfile:\n",
    "    kai_key = kfile.read(100)"
   ]
  },
  {
   "cell_type": "code",
   "execution_count": 26,
   "metadata": {},
   "outputs": [],
   "source": [
    "text = \"이 문서는 카카오 번역 APU 사용 방법을 설명합니다.\""
   ]
  },
  {
   "cell_type": "code",
   "execution_count": 27,
   "metadata": {},
   "outputs": [],
   "source": [
    "url = \"https://dapi.kakao.com/v2/translation/translate?query=\"+quote(text)+\"&src_lang=kr&target_lang=en\""
   ]
  },
  {
   "cell_type": "code",
   "execution_count": 30,
   "metadata": {},
   "outputs": [
    {
     "output_type": "execute_result",
     "data": {
      "text/plain": [
       "{'translated_text': [['This document describes how to use the Kakao translation APU.']]}"
      ]
     },
     "metadata": {},
     "execution_count": 30
    }
   ],
   "source": [
    "result = requests.get(url, headers= {'Authorization':'KakaoAK '+kai_key}).json()\n",
    "result"
   ]
  },
  {
   "cell_type": "code",
   "execution_count": 31,
   "metadata": {},
   "outputs": [
    {
     "output_type": "execute_result",
     "data": {
      "text/plain": [
       "'This document describes how to use the Kakao translation APU.'"
      ]
     },
     "metadata": {},
     "execution_count": 31
    }
   ],
   "source": [
    "eng_text = result['translated_text'][0][0]\n",
    "eng_text"
   ]
  },
  {
   "cell_type": "code",
   "execution_count": 32,
   "metadata": {},
   "outputs": [],
   "source": [
    "def generate_url(text, src, dst):\n",
    "    return f\"https://dapi.kakao.com/v2/translation/translate?query={quote(text)}&src_lang={src}&target_lang={dst}\""
   ]
  },
  {
   "cell_type": "code",
   "execution_count": 37,
   "metadata": {},
   "outputs": [
    {
     "output_type": "execute_result",
     "data": {
      "text/plain": [
       "{'translated_text': [['이 문서는 카카오 번역 APU 사용 방법에 대해 설명합니다.']]}"
      ]
     },
     "metadata": {},
     "execution_count": 37
    }
   ],
   "source": [
    "result = requests.get(generate_url(eng_text, 'en', 'kr'), headers= {'Authorization':'KakaoAK '+kai_key}).json()\n",
    "result"
   ]
  },
  {
   "cell_type": "code",
   "execution_count": 38,
   "metadata": {},
   "outputs": [
    {
     "output_type": "execute_result",
     "data": {
      "text/plain": [
       "'이 문서는 카카오 번역 APU 사용 방법에 대해 설명합니다.'"
      ]
     },
     "metadata": {},
     "execution_count": 38
    }
   ],
   "source": [
    "kor_text = result['translated_text'][0][0]\n",
    "kor_text"
   ]
  },
  {
   "source": [
    "### 한글 여러 문장 => 영어 여러 문장"
   ],
   "cell_type": "markdown",
   "metadata": {}
  },
  {
   "cell_type": "code",
   "execution_count": 45,
   "metadata": {},
   "outputs": [
    {
     "output_type": "execute_result",
     "data": {
      "text/plain": [
       "['Naver Cloud Platform provides various artificial intelligence services of W Naver such as Clova and papago in API form.',\n",
       " \"Customers can use Naver's artificial intelligence service to build and operate the latest technology-based AI services.\"]"
      ]
     },
     "metadata": {},
     "execution_count": 45
    }
   ],
   "source": [
    "text = \"네이버 클라우드 플랫폼에서는 Clova, papago 등 W네이버의 다양한 인공지능 서비스를 API 형태로 제공합니다. 고객은 네이버의 인공지능 서비스를 활용하여, \" \\\n",
    "       \"최신 기술 기반의 AI 서비스를 구축하고 안정적으로 운영할 수 있습니다..\"\n",
    "result = requests.get(generate_url(text, 'kr', 'en'), headers= {'Authorization':'KakaoAK '+kai_key}).json()\n",
    "en_text = result['translated_text'][0]\n",
    "en_text"
   ]
  }
 ]
}